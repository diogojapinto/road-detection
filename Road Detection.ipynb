{
 "cells": [
  {
   "cell_type": "markdown",
   "metadata": {},
   "source": [
    "# Visual-based road detection\n",
    "\n",
    "* [Work Description](files/intro-docs/VCOM_2015-2016_Trabalho_1_v02.pdf)\n",
    "\n",
    "This project focus on finding and extracting delimiter features (edges) present on a road. This ability is of great importance in computer vision field, namely in autonomous driver applications.\n",
    "\n",
    "## Process\n",
    "* Reduce noise (assume Gaussian noise)\n",
    "    * Preserve the edges\n",
    "* Highlight edges\n",
    "    * **e.g.** Canny\n",
    "* Extract lines\n",
    "* Find Intersection point\n",
    "\n",
    "\n",
    "### Possible improvements\n",
    "* Add Gaussian noise and test performance of the algorithm\n",
    "\n",
    "*Note:* test with different image representations, in order to extract channels where the image is easier to parse."
   ]
  },
  {
   "cell_type": "code",
   "execution_count": null,
   "metadata": {
    "collapsed": true
   },
   "outputs": [],
   "source": []
  }
 ],
 "metadata": {
  "celltoolbar": "Raw Cell Format",
  "kernelspec": {
   "display_name": "Python 3",
   "language": "python",
   "name": "python3"
  },
  "language_info": {
   "codemirror_mode": {
    "name": "ipython",
    "version": 3
   },
   "file_extension": ".py",
   "mimetype": "text/x-python",
   "name": "python",
   "nbconvert_exporter": "python",
   "pygments_lexer": "ipython3",
   "version": "3.4.3"
  }
 },
 "nbformat": 4,
 "nbformat_minor": 0
}
